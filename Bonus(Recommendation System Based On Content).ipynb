{
 "cells": [
  {
   "cell_type": "code",
   "execution_count": null,
   "id": "566722d1",
   "metadata": {},
   "outputs": [],
   "source": [
    "combine = []\n",
    "for item in zip(name_keywords, name_genres, director, name_cast):\n",
    "    temp = ''\n",
    "    for i in range(4):\n",
    "        if i == 2:\n",
    "            if temp != '':\n",
    "                temp = temp + ' ' + item[2]\n",
    "            else:\n",
    "                temp = temp + item[2]\n",
    "        else:\n",
    "            for c in item[i]:\n",
    "                if temp != '':\n",
    "                    temp = temp + ' ' + c\n",
    "                else:\n",
    "                    temp = temp + c\n",
    "    combine.append(temp)\n",
    "    count = count+1\n",
    "\n",
    "combine = pd.DataFrame(combine)\n",
    "data_re = pd.concat([title, combine], axis = 1).reindex(title.index)\n",
    "data_re.columns = ['title', 'combine']\n",
    "data_re\n",
    "cv = CountVectorizer(stop_words = 'english')\n",
    "count_matrix = cv.fit_transform(data_re['combine'])\n",
    "cosine_sim = cosine_similarity(count_matrix, count_matrix)\n",
    "data_re = data_re.reset_index()\n",
    "indices = pd.Series(data_re.index, index=data_re['title'])\n",
    "def get_recommendations(title, cosine_sim=cosine_sim):\n",
    "    idx = indices[title]\n",
    "    sim_scores = list(enumerate(cosine_sim[idx]))\n",
    "    sim_scores = sorted(sim_scores, key=lambda x: x[1], reverse=True)\n",
    "    sim_scores = sim_scores[1:11]\n",
    "    movie_indices = [i[0] for i in sim_scores]\n",
    "    return data_re['title'].iloc[movie_indices]\n",
    "get_recommendations('Avatar', cosine_sim)\n",
    "get_recommendations('Batman Begins', cosine_sim)\n",
    "get_recommendations('Romeo Is Bleeding', cosine_sim)"
   ]
  }
 ],
 "metadata": {
  "kernelspec": {
   "display_name": "Python 3 (ipykernel)",
   "language": "python",
   "name": "python3"
  },
  "language_info": {
   "codemirror_mode": {
    "name": "ipython",
    "version": 3
   },
   "file_extension": ".py",
   "mimetype": "text/x-python",
   "name": "python",
   "nbconvert_exporter": "python",
   "pygments_lexer": "ipython3",
   "version": "3.9.7"
  }
 },
 "nbformat": 4,
 "nbformat_minor": 5
}
