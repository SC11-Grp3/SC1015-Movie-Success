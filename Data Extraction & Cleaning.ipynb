{
 "cells": [
  {
   "cell_type": "code",
   "execution_count": null,
   "id": "b4157356",
   "metadata": {},
   "outputs": [],
   "source": [
    "for item in cres:\n",
    "    print(\"Number of missing value in \", item, \": \", cres[item].isna().sum())\n",
    "    \n",
    "#Extract the columns of the credits table\n",
    "movie_id = cres['movie_id']\n",
    "title = cres['title']\n",
    "cast = cres['cast']\n",
    "crew = cres['crew']\n",
    "\n",
    "movie_id[0]\n",
    "\n",
    "title[0]\n",
    "\n",
    "# This line is to display the dictionary of cast\n",
    "cast[0]\n",
    "\n",
    "#This line is to display the dictionary of crew\n",
    "crew[0]\n",
    "\n",
    "num_cast = []\n",
    "name_cast = []\n",
    "for i in range(len(cast)):\n",
    "    temp = eval(cast[i]) #Convert to list of real dictionaries\n",
    "    num_cast.append(len(temp)) # Append the number of cast to the list\n",
    "    temp_name = []\n",
    "    count = 0\n",
    "    for ca in temp:\n",
    "        if count<3:\n",
    "            count = count+1\n",
    "            temp_name.append(str.lower(ca['name'].replace(\" \",\"\")))\n",
    "    name_cast.append(temp_name)\n",
    "print(num_cast[0]) #Test for number of cast in the first film\n",
    "print(\"Length of num_cast column\", len(num_cast))\n",
    "print(\"Length of name_cast column\", len(name_cast))\n",
    "print(\"List of 3 cast names in the first movie:\", name_cast[0])\n",
    "\n",
    "num_crew = []\n",
    "director = []\n",
    "for i in range(len(crew)):\n",
    "    temp = eval(crew[i]) #Convert the sting-based dictionaries to list of real dictionaries\n",
    "    num_crew.append(len(temp)) # Append the number of cast to the list\n",
    "    for cr in temp:\n",
    "        if cr['job'] == 'Director':\n",
    "            director.append(str.lower(cr['name'].replace(\" \",\"\")))\n",
    "            \n",
    "print(director[1])\n",
    "print(\"Length of num_crew column:\", len(num_crew))\n",
    "print(\"Director of the first movie:\", director[0])"
   ]
  },
  {
   "cell_type": "markdown",
   "id": "111440c4",
   "metadata": {},
   "source": [
    "#### Summary: <br>\n",
    "From the ***credits*** dataset, we have 6 variales: <br>\n",
    "***- movie_id***<br>\n",
    "***- title***<br>\n",
    "***- num_cast***: Used for regression model<br>\n",
    "***- num_crew***: Used for regression model<br>\n",
    "***- name_cast***: Used for recommendation system<br>\n",
    "***- director***: Used for recommendation system<br>\n",
    "with totally 4803 record.\n",
    "****"
   ]
  },
  {
   "cell_type": "markdown",
   "id": "d6e0c101",
   "metadata": {},
   "source": [
    "### Extract the data from movies dataset"
   ]
  },
  {
   "cell_type": "code",
   "execution_count": null,
   "id": "0b3fb070",
   "metadata": {},
   "outputs": [],
   "source": [
    "for item in moviesdata:\n",
    "    missval = moviesdata[item].isna().sum()\n",
    "    print(\"Number of missing value in \", item, \": \", missval)"
   ]
  },
  {
   "cell_type": "markdown",
   "id": "a1cd43bf",
   "metadata": {},
   "source": [
    "Here, we observe some missing values in variables homepage, release_date, overview, runtime, tagline. <br>\n",
    "We will then fill these missing values with some default ones."
   ]
  },
  {
   "cell_type": "code",
   "execution_count": null,
   "id": "aa0cdf8f",
   "metadata": {},
   "outputs": [],
   "source": [
    "moviesdata['homepage'] = moviesdata['homepage'].fillna('')\n",
    "moviesdata['overview'] = moviesdata['overview'].fillna('')\n",
    "moviesdata['release_date'] = moviesdata['release_date'].fillna('')\n",
    "moviesdata['runtime'] = moviesdata['runtime'].fillna(0)\n",
    "moviesdata['tagline'] = moviesdata['tagline'].fillna('')"
   ]
  },
  {
   "cell_type": "markdown",
   "id": "b657e90e",
   "metadata": {},
   "source": [
    "#### Extract the columns of the table"
   ]
  },
  {
   "cell_type": "code",
   "execution_count": null,
   "id": "804dd395",
   "metadata": {},
   "outputs": [],
   "source": [
    "budget = moviesdata['budget']\n",
    "genres = moviesdata['genres']\n",
    "# homepage: We ignore this variable\n",
    "# id: We have the id from the credit dataset\n",
    "keywords = moviesdata['keywords']\n",
    "original_language = moviesdata['original_language']\n",
    "original_title = moviesdata['original_title']\n",
    "popularity = moviesdata['popularity']\n",
    "production_companies = moviesdata['production_companies']\n",
    "production_countries = moviesdata['production_countries']\n",
    "release_day = moviesdata['release_date']\n",
    "revenue = moviesdata['revenue']\n",
    "runtime = moviesdata['runtime']\n",
    "spoken_languages = moviesdata['spoken_languages']\n",
    "status = moviesdata['status']\n",
    "tagline = moviesdata['tagline']\n",
    "# title: already from the credit dataset\n",
    "vote_average = moviesdata['vote_average']\n",
    "vote_count = moviesdata['vote_count']"
   ]
  },
  {
   "cell_type": "markdown",
   "id": "464e8e04",
   "metadata": {},
   "source": [
    "#### Count the number of genres and the list of genres for each movies"
   ]
  },
  {
   "cell_type": "markdown",
   "id": "c97ca22f",
   "metadata": {},
   "source": [
    "In this part, we extract the number of genres, as a possible features for predicting revenue. Also, we extract 3 first genres, lower case them and remove space for recommendation later."
   ]
  },
  {
   "cell_type": "code",
   "execution_count": null,
   "id": "d6d646ce",
   "metadata": {},
   "outputs": [],
   "source": [
    "genres[0] #explore first element in genres\n",
    "\n",
    "num_genres = []\n",
    "name_genres = []\n",
    "for i in range(len(genres)):\n",
    "    temp = eval(genres[i])\n",
    "    num_genres.append(len(temp))\n",
    "    temp_name = []\n",
    "    count = 0\n",
    "    for ge in temp:\n",
    "        if count<4:\n",
    "            count = count+1\n",
    "            temp_name.append(str.lower(ge['name'].replace(\" \",\"\")))\n",
    "    name_genres.append(temp_name)\n",
    "print(num_genres[0])\n",
    "print(name_genres[0])"
   ]
  },
  {
   "cell_type": "code",
   "execution_count": null,
   "id": "a94e82ce",
   "metadata": {},
   "outputs": [],
   "source": [
    "genres_list = set()\n",
    "for na in name_genres:\n",
    "    for n in na:\n",
    "        genres_list.add(n)\n",
    "genres_list = list(genres_list)\n",
    "genres_list"
   ]
  },
  {
   "cell_type": "markdown",
   "id": "63f0d638",
   "metadata": {},
   "source": [
    "#### Transform this categorical variable in to one-hot encoding"
   ]
  },
  {
   "cell_type": "code",
   "execution_count": null,
   "id": "0c0e53de",
   "metadata": {},
   "outputs": [],
   "source": [
    "genres_d = pd.DataFrame()\n",
    "for genres in genres_list:\n",
    "    temp = []\n",
    "    for i in range(len(name_genres)):\n",
    "        temp.append(1 if genres in name_genres[i] else 0)\n",
    "    genres_d[genres] = pd.Series(temp).values\n",
    "    moviesdata[genres] = pd.Series(temp).values\n",
    "    \n",
    "genres_d.head()\n",
    "moviesdata.head()\n",
    "moviesdata[genres]"
   ]
  },
  {
   "cell_type": "markdown",
   "id": "6c56549a",
   "metadata": {},
   "source": [
    "#### Extract the keywords"
   ]
  },
  {
   "cell_type": "code",
   "execution_count": null,
   "id": "1a73db1d",
   "metadata": {},
   "outputs": [],
   "source": [
    "num_keywords = []\n",
    "name_keywords = []\n",
    "for i in range(len(keywords)):\n",
    "    temp = eval(keywords[i])\n",
    "    num_keywords.append(len(temp))\n",
    "    temp_name = []\n",
    "    count = 0\n",
    "    for key in temp:\n",
    "        if count<3:\n",
    "            count = count+1\n",
    "            temp_name.append(str.lower(key['name'].replace(\" \",\"\")))\n",
    "    name_keywords.append(temp_name)\n",
    "print(num_keywords[0])\n",
    "print(name_keywords[0])"
   ]
  },
  {
   "cell_type": "markdown",
   "id": "9553f78f",
   "metadata": {},
   "source": [
    "#### Convert all features to dataframe"
   ]
  },
  {
   "cell_type": "code",
   "execution_count": null,
   "id": "302f8bbc",
   "metadata": {},
   "outputs": [],
   "source": [
    "num_cast_d = pd.DataFrame(num_cast)\n",
    "num_crew_d = pd.DataFrame(num_crew)\n",
    "budget_d = pd.DataFrame(budget)\n",
    "num_genres_d = pd.DataFrame(num_genres)\n",
    "num_keywords_d = pd.DataFrame(num_keywords)\n",
    "popularity_d = pd.DataFrame(popularity)\n",
    "runtime_d = pd.DataFrame(runtime)\n",
    "vote_average_d = pd.DataFrame(vote_average)\n",
    "vote_count_d = pd.DataFrame(vote_count)\n",
    "revenue_d = pd.DataFrame(revenue)"
   ]
  },
  {
   "cell_type": "markdown",
   "id": "bf412919",
   "metadata": {},
   "source": [
    "### 3.2. Normalize the distribution of the varibales by using log scale and remove outliers"
   ]
  },
  {
   "cell_type": "code",
   "execution_count": null,
   "id": "94070a84",
   "metadata": {},
   "outputs": [],
   "source": [
    "data_o = pd.concat([revenue_d, budget_d, num_cast_d, num_crew_d, genres_d, popularity_d, vote_count_d, vote_average_d], axis = 1).reindex(budget_d.index)\n",
    "data_o.columns = ['revenue', 'budget', 'num_cast', 'num_crew', 'sciencefiction','action','western','comedy','mystery','war','documentary','history','adventure','romance','crime','family','tvmovie','drama','music','animation','fantasy','horror','foreign','thriller', 'popularity', 'vote_count', 'vote_average']\n",
    "data_o.shape\n",
    "\n",
    "from sklearn import preprocessing\n",
    "data_o1 = data_o.copy() #copy of data_o\n",
    "data_o1.loc[:, ['revenue', 'budget', 'popularity', 'vote_count', 'vote_average']] = preprocessing.normalize(data_o1.loc[:, ['revenue', 'budget', 'popularity', 'vote_count', 'vote_average']])\n",
    "data_o1.loc[:, ['revenue', 'budget', 'popularity', 'vote_count', 'vote_average']]"
   ]
  },
  {
   "cell_type": "markdown",
   "id": "bb672abe",
   "metadata": {},
   "source": [
    "### Measure the knewness and kurtosis of data "
   ]
  },
  {
   "cell_type": "code",
   "execution_count": null,
   "id": "ca09c726",
   "metadata": {},
   "outputs": [],
   "source": [
    "data_o.loc[:, ['revenue', 'budget', 'popularity', 'vote_count', 'vote_average']].skew()\n",
    "data_o.loc[:, ['revenue', 'budget', 'popularity', 'vote_count', 'vote_average']].kurt()\n",
    "data_o.loc[:, ['revenue', 'budget', 'popularity', 'vote_count', 'vote_average']]"
   ]
  },
  {
   "cell_type": "markdown",
   "id": "87bb3d0b",
   "metadata": {},
   "source": [
    "### Plot the graphs for each of the variables"
   ]
  },
  {
   "cell_type": "code",
   "execution_count": null,
   "id": "4daa87bc",
   "metadata": {},
   "outputs": [],
   "source": [
    "f, axes = plt.subplots(5, 3, figsize=(16, 12))\n",
    "\n",
    "count = 0\n",
    "for var in data_o.loc[:, ['revenue', 'budget', 'popularity', 'vote_count', 'vote_average']]:\n",
    "    sb.boxplot(data_o[var], orient = \"h\", ax = axes[count,0])\n",
    "    sb.histplot(data_o[var], ax = axes[count,1])\n",
    "    sb.violinplot(data_o[var], orient = \"h\", ax = axes[count,2])\n",
    "    count += 1"
   ]
  },
  {
   "cell_type": "markdown",
   "id": "65325015",
   "metadata": {},
   "source": [
    "We can see that the distribution of this data is positve skew. Therefore, we proceed to some normalization and cut the outlier to make it more uniform."
   ]
  },
  {
   "cell_type": "code",
   "execution_count": null,
   "id": "697e0b4a",
   "metadata": {},
   "outputs": [],
   "source": [
    "data_process = data_o\n",
    "data_process.shape"
   ]
  },
  {
   "cell_type": "markdown",
   "id": "08cc8755",
   "metadata": {},
   "source": [
    "We remove all records with '0' value, as when we transform to log scale, and log(0) will go to -infinity. "
   ]
  },
  {
   "cell_type": "code",
   "execution_count": null,
   "id": "3cddd684",
   "metadata": {},
   "outputs": [],
   "source": [
    "data_process = data_process[data_process['budget'] > 0]\n",
    "data_process = data_process[data_process['revenue'] > 0]\n",
    "data_process = data_process[data_process['vote_count'] > 0]\n",
    "data_process = data_process[data_process['popularity'] > 0]\n",
    "data_process.shape"
   ]
  },
  {
   "cell_type": "markdown",
   "id": "fd011932",
   "metadata": {},
   "source": [
    "#### Transform the dataset into log scale to make it more uniform"
   ]
  },
  {
   "cell_type": "code",
   "execution_count": null,
   "id": "de869c50",
   "metadata": {},
   "outputs": [],
   "source": [
    "budget_log = pd.DataFrame(np.log(data_process['budget']))\n",
    "revenue_log = pd.DataFrame(np.log(data_process['revenue']))\n",
    "popularity_log = pd.DataFrame(np.log(data_process['popularity']))\n",
    "vote_count_log = pd.DataFrame(np.log(data_process['vote_count']))\n",
    "data_log = pd.concat([budget_log, revenue_log, num_cast_d, num_crew_d, genres_d, popularity_log, vote_count_log, vote_average_d], axis = 1).reindex(budget_log.index)\n",
    "data_log.columns = ['budget', 'revenue', 'num_cast', 'num_crew', 'sciencefiction','action','western','comedy','mystery','war','documentary','history','adventure','romance','crime','family','tvmovie','drama','music','animation','fantasy','horror','foreign','thriller', 'popularity', 'vote_count', 'vote_average']\n",
    "data_log.shape"
   ]
  },
  {
   "cell_type": "markdown",
   "id": "a105dc6d",
   "metadata": {},
   "source": [
    "Here, we use a function called ***zscore*** from stats in scipy. The function of this function is to to measure the distance of the point to mean over the standard deviation. If more than 3 times or the point lies out of 3 standard deviation, we cut that record. "
   ]
  },
  {
   "cell_type": "code",
   "execution_count": null,
   "id": "a8cef832",
   "metadata": {},
   "outputs": [],
   "source": [
    "data_log = data_log[(np.abs(stats.zscore(data_log['budget'])) < 3)]\n",
    "data_log = data_log[(np.abs(stats.zscore(data_log['revenue'])) < 3)]\n",
    "data_log = data_log[(np.abs(stats.zscore(data_log['popularity'])) < 3)]\n",
    "data_log = data_log[(np.abs(stats.zscore(data_log['vote_count'])) < 3)]\n",
    "data_log.shape\n",
    "\n",
    "f, axes = plt.subplots(5, 3, figsize=(18, 12))\n",
    "\n",
    "count = 0\n",
    "for var in data_o.loc[:, ['revenue', 'budget', 'popularity', 'vote_count', 'vote_average']]:\n",
    "    sb.boxplot(data_log[var], orient = \"h\", ax = axes[count,0])\n",
    "    sb.histplot(data_log[var], ax = axes[count,1])\n",
    "    sb.violinplot(data_log[var], orient = \"h\", ax = axes[count,2])\n",
    "    count += 1\n",
    "    \n",
    "data_log.loc[:, ['revenue', 'budget', 'popularity', 'vote_count', 'vote_average']].skew()\n",
    "data_log.loc[:, ['revenue', 'budget', 'popularity', 'vote_count', 'vote_average']].kurt()"
   ]
  },
  {
   "cell_type": "markdown",
   "id": "2ad0b882",
   "metadata": {},
   "source": [
    "Now, our data is more uniform and less skewed."
   ]
  },
  {
   "cell_type": "code",
   "execution_count": null,
   "id": "b2fb795a",
   "metadata": {},
   "outputs": [],
   "source": []
  }
 ],
 "metadata": {
  "kernelspec": {
   "display_name": "Python 3 (ipykernel)",
   "language": "python",
   "name": "python3"
  },
  "language_info": {
   "codemirror_mode": {
    "name": "ipython",
    "version": 3
   },
   "file_extension": ".py",
   "mimetype": "text/x-python",
   "name": "python",
   "nbconvert_exporter": "python",
   "pygments_lexer": "ipython3",
   "version": "3.9.7"
  }
 },
 "nbformat": 4,
 "nbformat_minor": 5
}
