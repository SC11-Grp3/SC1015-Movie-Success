{
 "cells": [
  {
   "cell_type": "code",
   "execution_count": null,
   "id": "9388129a",
   "metadata": {},
   "outputs": [],
   "source": [
    "data_log.describe()\n",
    "data_log[['budget','revenue', 'num_cast', 'num_crew', 'popularity', 'vote_count', 'vote_average']].describe()"
   ]
  },
  {
   "cell_type": "markdown",
   "id": "5b25965c",
   "metadata": {},
   "source": [
    "### Plot Revenue Variable"
   ]
  },
  {
   "cell_type": "code",
   "execution_count": null,
   "id": "8e89d452",
   "metadata": {},
   "outputs": [],
   "source": [
    "f, axes = plt.subplots(1, 3, figsize =(27, 7))\n",
    "sb.boxplot(data_log['revenue'], orient = \"h\", ax = axes[0])\n",
    "sb.histplot(data_log['revenue'], ax = axes[1])\n",
    "sb.violinplot(data_log['revenue'], orient = \"h\", ax = axes[2])"
   ]
  },
  {
   "cell_type": "markdown",
   "id": "2dd6ef4b",
   "metadata": {},
   "source": [
    "### 4.1. Pre-production elements uni-varite analysis"
   ]
  },
  {
   "cell_type": "markdown",
   "id": "2f82dce0",
   "metadata": {},
   "source": [
    "Now, we have 4 pre-production elements: <br>\n",
    "> **budget** <br>\n",
    "> **num_cast**<br>\n",
    "> **num_crew**<br>\n",
    "> **genres**: 20 genres are used as 20 different features<br>"
   ]
  },
  {
   "cell_type": "code",
   "execution_count": null,
   "id": "9b82c645",
   "metadata": {},
   "outputs": [],
   "source": [
    "# Draw the distributions of all Predictors\n",
    "f, axes = plt.subplots(3, 3, figsize=(18, 12))\n",
    "\n",
    "pos = 0\n",
    "for var in ['budget', 'num_cast', 'num_crew']:\n",
    "    sb.boxplot(data_log[var], orient = \"h\", ax = axes[pos,0])\n",
    "    sb.histplot(data_log[var], ax = axes[pos,1])\n",
    "    sb.violinplot(data_log[var], orient = \"h\", ax = axes[pos,2])\n",
    "    pos += 1\n",
    "    \n",
    "num_genres = data_log[genres_list].sum(axis = 0)\n",
    "num_genres\n",
    "\n",
    "plt.subplots(figsize=(15, 15))\n",
    "num_genres.plot.bar(align='center', alpha=0.5, color='blue')\n",
    "#y_pos = np.arange(num_genres)\n",
    "#plt.xticks(y_pos, name_genres)\n",
    "plt.ylabel('Genres Count')"
   ]
  },
  {
   "cell_type": "markdown",
   "id": "6ebfca73",
   "metadata": {},
   "source": [
    "### 4.2. Post-production elements uni-variate analysis"
   ]
  },
  {
   "cell_type": "markdown",
   "id": "4558d6c3",
   "metadata": {},
   "source": [
    "We have 3 post-production elements: <br>\n",
    "> **popularity** <br>\n",
    "> **vote_count** <br>\n",
    "> **vote_average** <br>"
   ]
  },
  {
   "cell_type": "code",
   "execution_count": null,
   "id": "bc2f6bca",
   "metadata": {},
   "outputs": [],
   "source": [
    "f, axes = plt.subplots(3, 3, figsize=(18, 12))\n",
    "\n",
    "pos = 0\n",
    "for var in ['popularity', 'vote_count', 'vote_average']:\n",
    "    sb.boxplot(data_log[var], orient = \"h\", ax = axes[pos,0])\n",
    "    sb.histplot(data_log[var], ax = axes[pos,1])\n",
    "    sb.violinplot(data_log[var], orient = \"h\", ax = axes[pos,2])\n",
    "    pos += 1"
   ]
  },
  {
   "cell_type": "markdown",
   "id": "6fd12d26",
   "metadata": {},
   "source": [
    "### 5.2. Multi-variate exploratory"
   ]
  },
  {
   "cell_type": "code",
   "execution_count": null,
   "id": "f9750b0c",
   "metadata": {},
   "outputs": [],
   "source": [
    "correlation = data_log.corr()['revenue'][:]\n",
    "correlation.sort_values()"
   ]
  },
  {
   "cell_type": "markdown",
   "id": "01965648",
   "metadata": {},
   "source": [
    "we can see that some pre-production elements that has a higher correlation to revenue is **budget, num_crew, num_cast, thriller**"
   ]
  },
  {
   "cell_type": "code",
   "execution_count": null,
   "id": "4353d680",
   "metadata": {},
   "outputs": [],
   "source": [
    "data_F = pd.DataFrame(data_log[['revenue', 'budget', 'num_crew', 'num_cast',]])\n",
    "f = plt.figure(figsize=(12, 8))\n",
    "sb.heatmap(data_F.corr(), vmin = -1, vmax = 1, annot = True, fmt = \".2f\")\n",
    "sb.pairplot(data = data_F)"
   ]
  },
  {
   "cell_type": "markdown",
   "id": "74869b3e",
   "metadata": {},
   "source": [
    "From the correlation matrix, there are some post-production elements that have high correlation such as **popularity, vote_count**"
   ]
  },
  {
   "cell_type": "code",
   "execution_count": null,
   "id": "9da698a2",
   "metadata": {},
   "outputs": [],
   "source": [
    "data_P = pd.DataFrame(data_log[['revenue', 'popularity', 'vote_count']])\n",
    "f = plt.figure(figsize=(12, 8))\n",
    "sb.heatmap(data_P.corr(), vmin = -1, vmax = 1, annot = True, fmt = \".2f\")\n",
    "sb.pairplot(data = data_P)"
   ]
  }
 ],
 "metadata": {
  "kernelspec": {
   "display_name": "Python 3 (ipykernel)",
   "language": "python",
   "name": "python3"
  },
  "language_info": {
   "codemirror_mode": {
    "name": "ipython",
    "version": 3
   },
   "file_extension": ".py",
   "mimetype": "text/x-python",
   "name": "python",
   "nbconvert_exporter": "python",
   "pygments_lexer": "ipython3",
   "version": "3.9.7"
  }
 },
 "nbformat": 4,
 "nbformat_minor": 5
}
