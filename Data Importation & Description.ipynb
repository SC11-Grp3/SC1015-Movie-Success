{
 "cells": [
  {
   "cell_type": "code",
   "execution_count": 1,
   "id": "30a974b6",
   "metadata": {},
   "outputs": [],
   "source": [
    "import pandas as pd\n",
    "import numpy as np\n",
    "import seaborn as sb\n",
    "import matplotlib.pyplot as plt\n",
    "from sklearn.datasets import make_regression\n",
    "from sklearn.model_selection import train_test_split\n",
    "from sklearn.feature_selection import mutual_info_regression\n",
    "import numpy as np\n",
    "from scipy import stats\n",
    "from sklearn.feature_extraction.text import CountVectorizer\n",
    "from sklearn.metrics.pairwise import cosine_similarity\n",
    "from sklearn.linear_model import LinearRegression\n",
    "from sklearn.metrics import mean_squared_error\n",
    "from sklearn.preprocessing import MinMaxScaler\n",
    "from sklearn.svm import LinearSVR\n",
    "from sklearn.pipeline import make_pipeline\n",
    "from sklearn.preprocessing import StandardScaler\n",
    "from sklearn.datasets import make_regression\n",
    "\n",
    "cres = pd.read_csv(\"credits.csv\")\n",
    "cres.head()\n",
    "cres.info()\n",
    "print(\"Number of records:\", len(cres['movie_id']))"
   ]
  },
  {
   "cell_type": "markdown",
   "id": "a2fc34c3",
   "metadata": {},
   "source": [
    "### Summary: <br>\n",
    ">**movie_id** : id of the movie <br>\n",
    ">**title** : title of the movie <br>\n",
    ">**cast** :  information of cast in the movie <br>\n",
    ">**crew** :  information of cast in the movie <br>\n",
    "> There are 4803 records"
   ]
  },
  {
   "cell_type": "code",
   "execution_count": null,
   "id": "1c0a642e",
   "metadata": {},
   "outputs": [],
   "source": [
    "moviesdata = pd.read_csv(\"movies.csv\")\n",
    "moviesdata.head()\n",
    "moviesdata.info()\n",
    "print(\"Number of records:\", len(moviesdata['title']))"
   ]
  },
  {
   "cell_type": "markdown",
   "id": "00dd3727",
   "metadata": {},
   "source": [
    "### Summary: <br>\n",
    "> **Budget** : budget of the company <br>\n",
    "> **genres** : show genres of the movie <br>\n",
    "> **homapage** : link to the homepage <br>\n",
    "> **id** : id of the movie <br>\n",
    "> **keywords** : show keywords of the data <br>\n",
    "> **original_language** : show the language of the movie <br>\n",
    "> **original_title** : original title of the movie <br>\n",
    "> **overview** : overview of the movie <br>\n",
    "> **popularity** : popularity rate of the movie <br>\n",
    "> **production_companies** : name of production company <br>\n",
    "> **production_countries** : name of production countries <br>\n",
    "> **release_date** : date of release <br>\n",
    "> **revenue** : revenue of the movie <br>\n",
    "> **runtime** : runtime of the movie <br>\n",
    "> **spoken_languages** : list of spoken language <br>\n",
    "> **status** : status of the movie (ex. released) <br>\n",
    "> **tagline** : tagline of the movie <br>\n",
    "> **vote_average** : average of vote grade <br>\n",
    "> **vote_count** : number of vote <br>"
   ]
  },
  {
   "cell_type": "code",
   "execution_count": null,
   "id": "066fe1bd",
   "metadata": {},
   "outputs": [],
   "source": []
  }
 ],
 "metadata": {
  "kernelspec": {
   "display_name": "Python 3 (ipykernel)",
   "language": "python",
   "name": "python3"
  },
  "language_info": {
   "codemirror_mode": {
    "name": "ipython",
    "version": 3
   },
   "file_extension": ".py",
   "mimetype": "text/x-python",
   "name": "python",
   "nbconvert_exporter": "python",
   "pygments_lexer": "ipython3",
   "version": "3.9.7"
  }
 },
 "nbformat": 4,
 "nbformat_minor": 5
}
